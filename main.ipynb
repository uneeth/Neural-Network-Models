{
 "cells": [
  {
   "cell_type": "markdown",
   "metadata": {},
   "source": [
    "# Splitting Data into Train and Test"
   ]
  },
  {
   "cell_type": "code",
   "execution_count": 1,
   "metadata": {},
   "outputs": [],
   "source": [
    "# Read Fashion MNIST dataset\n",
    "import numpy as np\n",
    "import util_mnist_reader\n",
    "import pandas\n",
    "\n",
    "X_train, y_train = util_mnist_reader.load_mnist('data/fashion', kind='train')\n",
    "X_test, y_test = util_mnist_reader.load_mnist('data/fashion', kind='t10k')\n",
    "x_train_original=X_train\n",
    "y_train_original=y_train\n",
    "x_test_original=X_test\n",
    "y_test_original=y_test"
   ]
  },
  {
   "cell_type": "markdown",
   "metadata": {},
   "source": [
    "# 1.Single Layer Artificial Neural Network from Scratch"
   ]
  },
  {
   "cell_type": "markdown",
   "metadata": {},
   "source": [
    "# Normlizing Data"
   ]
  },
  {
   "cell_type": "code",
   "execution_count": 2,
   "metadata": {},
   "outputs": [
    {
     "name": "stdout",
     "output_type": "stream",
     "text": [
      "Y_train: [9 0 0 ... 3 0 5]\n",
      "Y_test: [9 2 1 ... 8 1 5]\n"
     ]
    }
   ],
   "source": [
    "X_train=np.asarray(X_train)\n",
    "X_train=X_train/255.0\n",
    "y_train=np.asarray(y_train)\n",
    "Y_train_actual=y_train\n",
    "y_train=np.asarray(y_train)\n",
    "y_train = pandas.get_dummies(y_train)\n",
    "y_train=np.asarray(y_train)\n",
    "print(\"Y_train:\",Y_train_actual) #Original output\n",
    "\n",
    "X_test=np.asarray(X_test)\n",
    "X_test=X_test/255.0\n",
    "y_test=np.asarray(y_test)\n",
    "Y_test_actual=y_test\n",
    "y_test=np.asarray(y_test)\n",
    "y_test = pandas.get_dummies(y_test)\n",
    "y_test=np.asarray(y_test)\n",
    "print(\"Y_test:\",Y_test_actual)"
   ]
  },
  {
   "cell_type": "markdown",
   "metadata": {},
   "source": [
    "# Defining Helper Functions"
   ]
  },
  {
   "cell_type": "code",
   "execution_count": 3,
   "metadata": {},
   "outputs": [],
   "source": [
    "def sigmoid(x):\n",
    "    return 1 / (1 + np.exp(-x))\n",
    "\n",
    "def softmax(A):\n",
    "    expA = np.exp(A)\n",
    "    return expA / expA.sum(axis=1, keepdims=True)\n"
   ]
  },
  {
   "cell_type": "code",
   "execution_count": 4,
   "metadata": {},
   "outputs": [],
   "source": [
    "def forward_prop(X_train, W1, W2, b1, b2):\n",
    "    A1 = sigmoid(X_train.dot(W1) + b1) \n",
    "    A2 = softmax(A1.dot(W2) + b2)\n",
    "    return A1,A2"
   ]
  },
  {
   "cell_type": "code",
   "execution_count": 5,
   "metadata": {},
   "outputs": [],
   "source": [
    "def gradient_descent(A1, A2, y_true, W2):\n",
    "    d2 = (A2 - y_true)\n",
    "    d1 = ((d2).dot(W2.T) * A1 * (1 - A1))\n",
    "    return d1,d2"
   ]
  },
  {
   "cell_type": "code",
   "execution_count": 6,
   "metadata": {},
   "outputs": [],
   "source": [
    "def update_params(X_train,y_true,A1,d1,d2,W1,W2,b1,b2):\n",
    "    W2 -= alpha * A1.T.dot(d2)\n",
    "    b2 -= alpha * (d2).sum(axis=0)\n",
    "    W1 -= alpha * X_train.T.dot(d1)\n",
    "    b1 -= alpha * (d1).sum(axis=0)\n",
    "    return W1,W2,b1,b2"
   ]
  },
  {
   "cell_type": "code",
   "execution_count": 7,
   "metadata": {},
   "outputs": [],
   "source": [
    "def predict(X_train,W1,W2,b1,b2):\n",
    "    Y_prev = sigmoid(X_train.dot(W1) + b1) \n",
    "    Y_predict = softmax(Y_prev.dot(W2) + b2)\n",
    "    predictions = np.argmax(Y_predict, axis=1) \n",
    "    return predictions\n",
    "    "
   ]
  },
  {
   "cell_type": "code",
   "execution_count": 8,
   "metadata": {},
   "outputs": [
    {
     "name": "stdout",
     "output_type": "stream",
     "text": [
      "Loss function value after 0 iterations:  16.702774121747478\n",
      "Training Accuracy after 0 iterations: 17.203333333333333\n",
      "Loss function value after 10 iterations:  6.721905977424972\n",
      "Training Accuracy after 10 iterations: 56.215\n",
      "Loss function value after 20 iterations:  5.4045579009865685\n",
      "Training Accuracy after 20 iterations: 63.431666666666665\n",
      "Loss function value after 30 iterations:  3.475105086885631\n",
      "Training Accuracy after 30 iterations: 67.74833333333333\n",
      "Loss function value after 40 iterations:  3.4890337596630383\n",
      "Training Accuracy after 40 iterations: 70.86833333333334\n",
      "Loss function value after 50 iterations:  3.597062154999609\n",
      "Training Accuracy after 50 iterations: 69.90666666666667\n",
      "Loss function value after 60 iterations:  2.816124053577066\n",
      "Training Accuracy after 60 iterations: 69.99\n",
      "Loss function value after 70 iterations:  1.6666039891512248\n",
      "Training Accuracy after 70 iterations: 72.33500000000001\n",
      "Loss function value after 80 iterations:  2.3779895964410707\n",
      "Training Accuracy after 80 iterations: 70.25666666666666\n",
      "Loss function value after 90 iterations:  1.885798837036697\n",
      "Training Accuracy after 90 iterations: 74.03166666666667\n",
      "Loss function value after 100 iterations:  2.705138406904616\n",
      "Training Accuracy after 100 iterations: 70.05333333333333\n",
      "Loss function value after 110 iterations:  2.3689983603599702\n",
      "Training Accuracy after 110 iterations: 71.55166666666666\n",
      "Loss function value after 120 iterations:  2.0649918604891697\n",
      "Training Accuracy after 120 iterations: 74.81166666666667\n",
      "Loss function value after 130 iterations:  1.840206844041104\n",
      "Training Accuracy after 130 iterations: 71.23666666666666\n",
      "Loss function value after 140 iterations:  3.3499740793254715\n",
      "Training Accuracy after 140 iterations: 71.77166666666666\n",
      "Loss function value after 150 iterations:  2.313261645756238\n",
      "Training Accuracy after 150 iterations: 70.775\n",
      "Loss function value after 160 iterations:  1.8080410887658003\n",
      "Training Accuracy after 160 iterations: 73.57833333333333\n",
      "Loss function value after 170 iterations:  1.8047191714041997\n",
      "Training Accuracy after 170 iterations: 74.91666666666667\n",
      "Loss function value after 180 iterations:  1.6024174117544174\n",
      "Training Accuracy after 180 iterations: 73.38166666666666\n",
      "Loss function value after 190 iterations:  2.39438316138482\n",
      "Training Accuracy after 190 iterations: 76.17\n"
     ]
    }
   ],
   "source": [
    "y_true=y_train\n",
    "y_true.shape\n",
    "samples = X_train.shape[0] \n",
    "features = X_train.shape[1] \n",
    "hidden_nodes = 512\n",
    "classes = 10\n",
    "\n",
    "# randomly initialize weights\n",
    "W1 = np.random.randn(features, hidden_nodes)\n",
    "b1 = np.random.randn(hidden_nodes)\n",
    "W2 = np.random.randn(hidden_nodes, classes)\n",
    "b2 = np.random.randn(classes)\n",
    "\n",
    "alpha = 10e-6\n",
    "costs = []\n",
    "accuracy= []\n",
    "for epoch in range(200):\n",
    "    \n",
    "    #A = sigmoid(X_train.dot(W1) + b1) \n",
    "    #Y = softmax(A.dot(W2) + b2)\n",
    "    A1,A2 = forward_prop(X_train,W1, W2, b1,b2)\n",
    "\n",
    "    d1,d2 = gradient_descent(A1, A2, y_true, W2)\n",
    "\n",
    "    W1,W2,b1,b2 = update_params(X_train,y_true,A1,d1,d2,W1,W2,b1,b2)\n",
    "\n",
    "    if epoch % 10 == 0:\n",
    "        loss = -1/samples*np.sum(y_true * np.log(A2))\n",
    "        print(\"Loss function value after\",epoch,\"iterations: \", loss)\n",
    "        costs.append(loss)\n",
    "        predictions = predict(X_train,W1,W2,b1,b2)\n",
    "        current_accuracy=sum(Y_train_actual==predictions)/samples\n",
    "        accuracy.append(current_accuracy*100)\n",
    "        print(\"Training Accuracy after\",epoch,\"iterations:\", current_accuracy*100)\n",
    "    \n"
   ]
  },
  {
   "cell_type": "markdown",
   "metadata": {},
   "source": [
    "# Plotting Loss vs Iterations and Accuracy vs Iterations"
   ]
  },
  {
   "cell_type": "code",
   "execution_count": 10,
   "metadata": {},
   "outputs": [
    {
     "data": {
      "image/png": "[encoded data removed]",
      "text/plain": [
       "<Figure size 432x288 with 1 Axes>"
      ]
     },
     "metadata": {
      "needs_background": "light"
     },
     "output_type": "display_data"
    },
    {
     "data": {
      "image/png": "[encoded data removed]",
      "text/plain": [
       "<Figure size 432x288 with 1 Axes>"
      ]
     },
     "metadata": {
      "needs_background": "light"
     },
     "output_type": "display_data"
    }
   ],
   "source": [
    "import matplotlib.pyplot as plt\n",
    "\n",
    "plt.plot(accuracy)\n",
    "plt.title(\"Training Accuracy vs Number of Iterations\")\n",
    "plt.xlabel(\"Number of Iterations * 10\")\n",
    "plt.ylabel(\"Training Accuracy\")\n",
    "plt.show()\n",
    "\n",
    "\n",
    "plt.plot(costs)\n",
    "plt.title(\"Training Loss vs Number of Iterations\")\n",
    "plt.xlabel(\"Number of Iterations * 10\")\n",
    "plt.ylabel(\"Training loss\")\n",
    "plt.show()"
   ]
  },
  {
   "cell_type": "markdown",
   "metadata": {},
   "source": [
    "# Calculating Test Accuracy"
   ]
  },
  {
   "cell_type": "code",
   "execution_count": 11,
   "metadata": {},
   "outputs": [
    {
     "name": "stdout",
     "output_type": "stream",
     "text": [
      "Test Accuracy with the current Model: 73.56\n"
     ]
    }
   ],
   "source": [
    "test_samples = X_test.shape[0]\n",
    "A1_test,A2_test=forward_prop(X_test, W1, W2, b1, b2)\n",
    "test_predictions = predict(X_test,W1,W2,b1,b2)\n",
    "current_test_accuracy=sum(Y_test_actual==test_predictions)/test_samples\n",
    "print(\"Test Accuracy with the current Model:\", current_test_accuracy*100)"
   ]
  },
  {
   "cell_type": "markdown",
   "metadata": {},
   "source": [
    "# Confusion Matrix"
   ]
  },
  {
   "cell_type": "code",
   "execution_count": 12,
   "metadata": {},
   "outputs": [
    {
     "data": {
      "text/plain": [
       "array([[510,  15,   1,  67,   9,   4, 375,   0,  19,   0],\n",
       "       [  3, 924,   2,  32,  11,   0,  26,   0,   2,   0],\n",
       "       [ 11,  11, 217,  18, 253,   1, 479,   1,   7,   2],\n",
       "       [ 16,  27,   1, 762,  68,   4, 110,   2,   8,   2],\n",
       "       [  1,   4,   6,  25, 689,   6, 262,   0,   7,   0],\n",
       "       [  2,   0,   0,   1,   0, 861,   9,  72,  16,  39],\n",
       "       [ 45,  11,  21,  27,  95,   7, 770,   0,  24,   0],\n",
       "       [  0,   1,   0,   0,   0,  66,   1, 865,   3,  64],\n",
       "       [  1,   5,   2,   9,  12,  13,  73,  15, 868,   2],\n",
       "       [  0,   0,   0,   1,   0,  38,   6,  63,   2, 890]], dtype=int64)"
      ]
     },
     "execution_count": 12,
     "metadata": {},
     "output_type": "execute_result"
    }
   ],
   "source": [
    "from sklearn.metrics import confusion_matrix\n",
    "confs_matrix = confusion_matrix(Y_test_actual, test_predictions)\n",
    "confs_matrix"
   ]
  },
  {
   "cell_type": "markdown",
   "metadata": {},
   "source": [
    "# 2. Multilayer Neural Network with Keras"
   ]
  },
  {
   "cell_type": "code",
   "execution_count": 13,
   "metadata": {},
   "outputs": [],
   "source": [
    "X_train=x_train_original\n",
    "y_train=y_train_original\n",
    "X_test=x_test_original\n",
    "y_test=y_test_original"
   ]
  },
  {
   "cell_type": "code",
   "execution_count": 14,
   "metadata": {},
   "outputs": [
    {
     "name": "stderr",
     "output_type": "stream",
     "text": [
      "Using TensorFlow backend.\n"
     ]
    }
   ],
   "source": [
    "from keras.models import Sequential\n",
    "from keras.preprocessing.image import load_img, array_to_img\n",
    "from keras.utils.np_utils import to_categorical\n",
    "from keras.callbacks import EarlyStopping\n",
    "from sklearn.metrics import confusion_matrix\n",
    "\n",
    "from keras.layers import Dense\n",
    "import numpy as np\n",
    "import util_mnist_reader as mnist_reader\n",
    "import matplotlib.pyplot as plt"
   ]
  },
  {
   "cell_type": "code",
   "execution_count": 15,
   "metadata": {},
   "outputs": [
    {
     "name": "stdout",
     "output_type": "stream",
     "text": [
      "(60000, 784)\n",
      "(60000,)\n",
      "(10000, 784)\n",
      "(10000,)\n"
     ]
    }
   ],
   "source": [
    "print(X_train.shape)\n",
    "print(y_train.shape)\n",
    "print(X_test.shape)\n",
    "print(y_test.shape)"
   ]
  },
  {
   "cell_type": "code",
   "execution_count": 16,
   "metadata": {},
   "outputs": [
    {
     "data": {
      "text/plain": [
       "(784,)"
      ]
     },
     "execution_count": 16,
     "metadata": {},
     "output_type": "execute_result"
    }
   ],
   "source": [
    "X_train[0].shape"
   ]
  },
  {
   "cell_type": "code",
   "execution_count": 17,
   "metadata": {},
   "outputs": [],
   "source": [
    "X_train = X_train.astype('float32')\n",
    "X_test = X_test.astype('float32')"
   ]
  },
  {
   "cell_type": "code",
   "execution_count": 18,
   "metadata": {},
   "outputs": [],
   "source": [
    "X_train /= 255.0\n",
    "X_test /= 255.0"
   ]
  },
  {
   "cell_type": "code",
   "execution_count": 19,
   "metadata": {},
   "outputs": [],
   "source": [
    "y_train = to_categorical(y_train,10)\n",
    "y_test = to_categorical(y_test,10)\n",
    "early_stop = EarlyStopping(monitor='val_loss', min_delta=0, patience=5, verbose=1, mode='auto', restore_best_weights= True)"
   ]
  },
  {
   "cell_type": "code",
   "execution_count": 20,
   "metadata": {},
   "outputs": [],
   "source": [
    "ann = Sequential()"
   ]
  },
  {
   "cell_type": "code",
   "execution_count": 21,
   "metadata": {},
   "outputs": [],
   "source": [
    "ann.add(Dense(128,activation = 'tanh',input_shape=(784,)))\n",
    "ann.add(Dense(64,activation = 'sigmoid'))\n",
    "ann.add(Dense(10,activation = 'softmax'))"
   ]
  },
  {
   "cell_type": "code",
   "execution_count": 22,
   "metadata": {},
   "outputs": [],
   "source": [
    "ann.compile(optimizer = 'adam', loss = 'categorical_crossentropy', metrics=['accuracy'])"
   ]
  },
  {
   "cell_type": "code",
   "execution_count": 23,
   "metadata": {},
   "outputs": [
    {
     "name": "stdout",
     "output_type": "stream",
     "text": [
      "Model: \"sequential_1\"\n",
      "_________________________________________________________________\n",
      "Layer (type)                 Output Shape              Param #   \n",
      "=================================================================\n",
      "dense_1 (Dense)              (None, 128)               100480    \n",
      "_________________________________________________________________\n",
      "dense_2 (Dense)              (None, 64)                8256      \n",
      "_________________________________________________________________\n",
      "dense_3 (Dense)              (None, 10)                650       \n",
      "=================================================================\n",
      "Total params: 109,386\n",
      "Trainable params: 109,386\n",
      "Non-trainable params: 0\n",
      "_________________________________________________________________\n"
     ]
    }
   ],
   "source": [
    "ann.summary()"
   ]
  },
  {
   "cell_type": "code",
   "execution_count": 24,
   "metadata": {},
   "outputs": [
    {
     "name": "stdout",
     "output_type": "stream",
     "text": [
      "Train on 60000 samples, validate on 10000 samples\n",
      "Epoch 1/100\n",
      "60000/60000 [==============================] - 6s 96us/step - loss: 0.5193 - accuracy: 0.8209 - val_loss: 0.4385 - val_accuracy: 0.8405\n",
      "Epoch 2/100\n",
      "60000/60000 [==============================] - 5s 89us/step - loss: 0.3665 - accuracy: 0.8674 - val_loss: 0.3850 - val_accuracy: 0.8584\n",
      "Epoch 3/100\n",
      "60000/60000 [==============================] - 5s 90us/step - loss: 0.3341 - accuracy: 0.8769 - val_loss: 0.3859 - val_accuracy: 0.8594\n",
      "Epoch 4/100\n",
      "60000/60000 [==============================] - 5s 90us/step - loss: 0.3119 - accuracy: 0.8853 - val_loss: 0.3554 - val_accuracy: 0.8701\n",
      "Epoch 5/100\n",
      "60000/60000 [==============================] - 5s 90us/step - loss: 0.2956 - accuracy: 0.8915 - val_loss: 0.3418 - val_accuracy: 0.8762\n",
      "Epoch 6/100\n",
      "60000/60000 [==============================] - 5s 88us/step - loss: 0.2804 - accuracy: 0.8957 - val_loss: 0.3403 - val_accuracy: 0.8776\n",
      "Epoch 7/100\n",
      "60000/60000 [==============================] - 5s 89us/step - loss: 0.2706 - accuracy: 0.8994 - val_loss: 0.3348 - val_accuracy: 0.8769\n",
      "Epoch 8/100\n",
      "60000/60000 [==============================] - 5s 88us/step - loss: 0.2578 - accuracy: 0.9039 - val_loss: 0.3343 - val_accuracy: 0.8768\n",
      "Epoch 9/100\n",
      "60000/60000 [==============================] - 5s 89us/step - loss: 0.2499 - accuracy: 0.9064 - val_loss: 0.3241 - val_accuracy: 0.8835\n",
      "Epoch 10/100\n",
      "60000/60000 [==============================] - 5s 88us/step - loss: 0.2411 - accuracy: 0.9097 - val_loss: 0.3403 - val_accuracy: 0.8769\n",
      "Epoch 11/100\n",
      "60000/60000 [==============================] - 5s 88us/step - loss: 0.2350 - accuracy: 0.9116 - val_loss: 0.3464 - val_accuracy: 0.8746\n",
      "Epoch 12/100\n",
      "60000/60000 [==============================] - 5s 90us/step - loss: 0.2274 - accuracy: 0.9156 - val_loss: 0.3333 - val_accuracy: 0.8811\n",
      "Epoch 13/100\n",
      "60000/60000 [==============================] - 6s 93us/step - loss: 0.2215 - accuracy: 0.9173 - val_loss: 0.3298 - val_accuracy: 0.8833\n",
      "Epoch 14/100\n",
      "60000/60000 [==============================] - 6s 97us/step - loss: 0.2158 - accuracy: 0.9196 - val_loss: 0.3391 - val_accuracy: 0.8807\n",
      "Restoring model weights from the end of the best epoch\n",
      "Epoch 00014: early stopping\n"
     ]
    }
   ],
   "source": [
    "history = ann.fit(X_train,y_train, epochs = 100, validation_data = (X_test,y_test), callbacks = [early_stop])"
   ]
  },
  {
   "cell_type": "code",
   "execution_count": 25,
   "metadata": {},
   "outputs": [
    {
     "data": {
      "text/plain": [
       "[<matplotlib.lines.Line2D at 0x1c0346be5c0>]"
      ]
     },
     "execution_count": 25,
     "metadata": {},
     "output_type": "execute_result"
    },
    {
     "data": {
      "image/png": "[encoded data removed]",
      "text/plain": [
       "<Figure size 432x288 with 1 Axes>"
      ]
     },
     "metadata": {
      "needs_background": "light"
     },
     "output_type": "display_data"
    }
   ],
   "source": [
    "plt.plot(history.history['accuracy'])"
   ]
  },
  {
   "cell_type": "code",
   "execution_count": 27,
   "metadata": {},
   "outputs": [
    {
     "data": {
      "text/plain": [
       "[<matplotlib.lines.Line2D at 0x1c03472feb8>]"
      ]
     },
     "execution_count": 27,
     "metadata": {},
     "output_type": "execute_result"
    },
    {
     "data": {
      "image/png": "[encoded data removed]",
      "text/plain": [
       "<Figure size 432x288 with 1 Axes>"
      ]
     },
     "metadata": {
      "needs_background": "light"
     },
     "output_type": "display_data"
    }
   ],
   "source": [
    "plt.title('Number of iterations vs training loss')\n",
    "plt.xlabel('number of iterations')\n",
    "plt.ylabel('Training loss')\n",
    "plt.plot(history.history['loss'])"
   ]
  },
  {
   "cell_type": "code",
   "execution_count": 28,
   "metadata": {},
   "outputs": [
    {
     "name": "stdout",
     "output_type": "stream",
     "text": [
      "10000/10000 [==============================] - 0s 44us/step\n"
     ]
    }
   ],
   "source": [
    "out_score = ann.evaluate(X_test,y_test)"
   ]
  },
  {
   "cell_type": "code",
   "execution_count": 29,
   "metadata": {},
   "outputs": [
    {
     "data": {
      "text/plain": [
       "[0.32408994475603103, 0.8834999799728394]"
      ]
     },
     "execution_count": 29,
     "metadata": {},
     "output_type": "execute_result"
    }
   ],
   "source": [
    "out_score"
   ]
  },
  {
   "cell_type": "code",
   "execution_count": 30,
   "metadata": {},
   "outputs": [],
   "source": [
    "predicted_output = ann.predict(X_test)"
   ]
  },
  {
   "cell_type": "code",
   "execution_count": 31,
   "metadata": {},
   "outputs": [
    {
     "data": {
      "text/plain": [
       "array([[7.5774915e-05, 1.9163915e-06, 2.7322683e-05, ..., 1.2940320e-02,\n",
       "        6.3229254e-06, 9.6610862e-01],\n",
       "       [5.8812666e-04, 7.1940817e-06, 9.9031770e-01, ..., 1.6206145e-07,\n",
       "        3.0220942e-06, 4.7779457e-07],\n",
       "       [4.3359072e-05, 9.9986577e-01, 9.1105458e-06, ..., 2.2119611e-06,\n",
       "        9.4182215e-06, 2.4750238e-06],\n",
       "       ...,\n",
       "       [7.4652252e-03, 7.2091495e-07, 4.5278860e-04, ..., 1.1280729e-05,\n",
       "        9.8540330e-01, 2.3087425e-05],\n",
       "       [8.7779536e-06, 9.9971336e-01, 5.8170926e-06, ..., 2.2524996e-06,\n",
       "        6.8231270e-06, 1.1670529e-05],\n",
       "       [1.4770292e-06, 1.4236117e-06, 2.2414226e-06, ..., 4.6165995e-04,\n",
       "        6.5984527e-06, 1.6690232e-06]], dtype=float32)"
      ]
     },
     "execution_count": 31,
     "metadata": {},
     "output_type": "execute_result"
    }
   ],
   "source": [
    "predicted_output"
   ]
  },
  {
   "cell_type": "code",
   "execution_count": 33,
   "metadata": {},
   "outputs": [],
   "source": [
    "y_predicted = (predicted_output > 0.5)"
   ]
  },
  {
   "cell_type": "code",
   "execution_count": 34,
   "metadata": {},
   "outputs": [
    {
     "data": {
      "text/plain": [
       "array([[False, False, False, ..., False, False,  True],\n",
       "       [False, False,  True, ..., False, False, False],\n",
       "       [False,  True, False, ..., False, False, False],\n",
       "       ...,\n",
       "       [False, False, False, ..., False,  True, False],\n",
       "       [False,  True, False, ..., False, False, False],\n",
       "       [False, False, False, ..., False, False, False]])"
      ]
     },
     "execution_count": 34,
     "metadata": {},
     "output_type": "execute_result"
    }
   ],
   "source": [
    "y_predicted"
   ]
  },
  {
   "cell_type": "code",
   "execution_count": 36,
   "metadata": {},
   "outputs": [],
   "source": [
    "conf_matrix = confusion_matrix(y_test.argmax(axis=1), y_predicted.argmax(axis=1))"
   ]
  },
  {
   "cell_type": "code",
   "execution_count": 37,
   "metadata": {},
   "outputs": [
    {
     "data": {
      "text/plain": [
       "array([[870,   0,   6,  13,   3,   0, 105,   0,   3,   0],\n",
       "       [ 10, 970,   1,  15,   3,   0,   1,   0,   0,   0],\n",
       "       [ 73,   0, 741,   7, 117,   1,  61,   0,   0,   0],\n",
       "       [ 61,   7,   4, 866,  42,   1,  17,   0,   2,   0],\n",
       "       [ 38,   1,  60,  16, 848,   0,  37,   0,   0,   0],\n",
       "       [  4,   0,   0,   0,   0, 946,   0,  27,   1,  22],\n",
       "       [181,   0,  52,  20,  89,   0, 655,   0,   3,   0],\n",
       "       [  5,   0,   0,   0,   0,  13,   0, 951,   0,  31],\n",
       "       [ 28,   0,   2,   4,   5,   4,   3,   4, 950,   0],\n",
       "       [  3,   0,   0,   0,   0,   6,   1,  30,   0, 960]], dtype=int64)"
      ]
     },
     "execution_count": 37,
     "metadata": {},
     "output_type": "execute_result"
    }
   ],
   "source": [
    "conf_matrix"
   ]
  },
  {
   "cell_type": "markdown",
   "metadata": {},
   "source": [
    "# 3.Classification using Convolutional Neural Network"
   ]
  },
  {
   "cell_type": "code",
   "execution_count": 2,
   "metadata": {},
   "outputs": [],
   "source": [
    "X_train=x_train_original\n",
    "y_train=y_train_original\n",
    "X_test=x_test_original\n",
    "y_test=y_test_original"
   ]
  },
  {
   "cell_type": "code",
   "execution_count": 3,
   "metadata": {},
   "outputs": [
    {
     "name": "stderr",
     "output_type": "stream",
     "text": [
      "Using TensorFlow backend.\n"
     ]
    }
   ],
   "source": [
    "from keras.models import Sequential\n",
    "from keras.preprocessing.image import load_img, array_to_img\n",
    "from keras.utils.np_utils import to_categorical\n",
    "from keras.callbacks import EarlyStopping\n",
    "from sklearn.metrics import confusion_matrix\n",
    "from keras.layers import Dropout\n",
    "from keras.layers import Dense\n",
    "from keras.layers import Conv2D, MaxPooling2D, Flatten\n",
    "import numpy as np\n",
    "import matplotlib.pyplot as plt"
   ]
  },
  {
   "cell_type": "code",
   "execution_count": 4,
   "metadata": {},
   "outputs": [
    {
     "name": "stdout",
     "output_type": "stream",
     "text": [
      "(60000, 28, 28, 1)\n"
     ]
    }
   ],
   "source": [
    "X_train = X_train.astype('float32')\n",
    "X_test = X_test.astype('float32')\n",
    "X_train /= 255.0\n",
    "X_test /= 255.0\n",
    "#print(X_train[0].shape)\n",
    "#X_train[0] = np.arange(784)\n",
    "X_train = X_train.reshape(60000,28,28,1)\n",
    "X_test = X_test.reshape(10000,28,28,1)\n",
    "print(X_train.shape)\n",
    "y_train = to_categorical(y_train,10)\n",
    "#print(y_train.shape)\n",
    "y_test = to_categorical(y_test,10)"
   ]
  },
  {
   "cell_type": "code",
   "execution_count": 5,
   "metadata": {},
   "outputs": [],
   "source": [
    "early_stop = EarlyStopping(monitor='val_loss', min_delta=0, patience=3, verbose=1, mode='auto', restore_best_weights= True)"
   ]
  },
  {
   "cell_type": "code",
   "execution_count": 6,
   "metadata": {},
   "outputs": [],
   "source": [
    "conv_nn = Sequential()"
   ]
  },
  {
   "cell_type": "code",
   "execution_count": 7,
   "metadata": {},
   "outputs": [],
   "source": [
    "conv_nn.add(Conv2D(64, kernel_size=2, padding='same', activation='relu', input_shape=(28,28,1)))\n",
    "conv_nn.add(MaxPooling2D(pool_size=2))\n",
    "conv_nn.add(Conv2D(16, kernel_size=2, padding='same', activation='tanh'))\n",
    "conv_nn.add(MaxPooling2D(pool_size=2))\n",
    "conv_nn.add(Flatten())\n",
    "conv_nn.add(Dense(128, activation='relu'))\n",
    "conv_nn.add(Dense(10, activation='softmax'))"
   ]
  },
  {
   "cell_type": "code",
   "execution_count": 8,
   "metadata": {},
   "outputs": [
    {
     "name": "stdout",
     "output_type": "stream",
     "text": [
      "Model: \"sequential_1\"\n",
      "_________________________________________________________________\n",
      "Layer (type)                 Output Shape              Param #   \n",
      "=================================================================\n",
      "conv2d_1 (Conv2D)            (None, 28, 28, 64)        320       \n",
      "_________________________________________________________________\n",
      "max_pooling2d_1 (MaxPooling2 (None, 14, 14, 64)        0         \n",
      "_________________________________________________________________\n",
      "conv2d_2 (Conv2D)            (None, 14, 14, 16)        4112      \n",
      "_________________________________________________________________\n",
      "max_pooling2d_2 (MaxPooling2 (None, 7, 7, 16)          0         \n",
      "_________________________________________________________________\n",
      "flatten_1 (Flatten)          (None, 784)               0         \n",
      "_________________________________________________________________\n",
      "dense_1 (Dense)              (None, 128)               100480    \n",
      "_________________________________________________________________\n",
      "dense_2 (Dense)              (None, 10)                1290      \n",
      "=================================================================\n",
      "Total params: 106,202\n",
      "Trainable params: 106,202\n",
      "Non-trainable params: 0\n",
      "_________________________________________________________________\n"
     ]
    }
   ],
   "source": [
    "conv_nn.summary()"
   ]
  },
  {
   "cell_type": "code",
   "execution_count": 9,
   "metadata": {},
   "outputs": [],
   "source": [
    "conv_nn.compile(loss='categorical_crossentropy',\n",
    "             optimizer='adam',\n",
    "             metrics=['accuracy'])"
   ]
  },
  {
   "cell_type": "code",
   "execution_count": 10,
   "metadata": {},
   "outputs": [
    {
     "name": "stdout",
     "output_type": "stream",
     "text": [
      "Train on 60000 samples, validate on 10000 samples\n",
      "Epoch 1/50\n",
      "60000/60000 [==============================] - 41s 678us/step - loss: 0.4461 - accuracy: 0.8394 - val_loss: 0.3649 - val_accuracy: 0.8656\n",
      "Epoch 2/50\n",
      "60000/60000 [==============================] - 40s 667us/step - loss: 0.2943 - accuracy: 0.8922 - val_loss: 0.3103 - val_accuracy: 0.8878\n",
      "Epoch 3/50\n",
      "60000/60000 [==============================] - 40s 664us/step - loss: 0.2533 - accuracy: 0.9067 - val_loss: 0.2730 - val_accuracy: 0.8999\n",
      "Epoch 4/50\n",
      "60000/60000 [==============================] - 40s 674us/step - loss: 0.2242 - accuracy: 0.9174 - val_loss: 0.2568 - val_accuracy: 0.9066\n",
      "Epoch 5/50\n",
      "60000/60000 [==============================] - 40s 671us/step - loss: 0.2004 - accuracy: 0.9255 - val_loss: 0.2813 - val_accuracy: 0.8980\n",
      "Epoch 6/50\n",
      "60000/60000 [==============================] - 39s 657us/step - loss: 0.1824 - accuracy: 0.9327 - val_loss: 0.2506 - val_accuracy: 0.9120\n",
      "Epoch 7/50\n",
      "60000/60000 [==============================] - 40s 659us/step - loss: 0.1649 - accuracy: 0.9393 - val_loss: 0.2728 - val_accuracy: 0.9083\n",
      "Epoch 8/50\n",
      "60000/60000 [==============================] - 40s 666us/step - loss: 0.1483 - accuracy: 0.9449 - val_loss: 0.2741 - val_accuracy: 0.9087\n",
      "Epoch 9/50\n",
      "60000/60000 [==============================] - 40s 675us/step - loss: 0.1320 - accuracy: 0.9507 - val_loss: 0.2677 - val_accuracy: 0.9124\n",
      "Restoring model weights from the end of the best epoch\n",
      "Epoch 00009: early stopping\n"
     ]
    }
   ],
   "source": [
    "history = conv_nn.fit(X_train,y_train, epochs = 50,validation_data = (X_test,y_test), callbacks = [early_stop])"
   ]
  },
  {
   "cell_type": "code",
   "execution_count": 11,
   "metadata": {},
   "outputs": [
    {
     "data": {
      "text/plain": [
       "Text(0, 0.5, 'training loss')"
      ]
     },
     "execution_count": 11,
     "metadata": {},
     "output_type": "execute_result"
    },
    {
     "data": {
      "image/png": "[encoded data removed]",
      "text/plain": [
       "<Figure size 432x288 with 1 Axes>"
      ]
     },
     "metadata": {
      "needs_background": "light"
     },
     "output_type": "display_data"
    }
   ],
   "source": [
    "plt.title('number of epochs vs training loss')\n",
    "\n",
    "plt.plot(history.history['loss'])\n",
    "plt.xlabel('number of epochs')\n",
    "plt.ylabel('training loss')"
   ]
  },
  {
   "cell_type": "code",
   "execution_count": 14,
   "metadata": {},
   "outputs": [
    {
     "name": "stdout",
     "output_type": "stream",
     "text": [
      "10000/10000 [==============================] - 1s 109us/step\n"
     ]
    }
   ],
   "source": [
    "score = conv_nn.evaluate(X_test,y_test)\n",
    "predict_cnn = conv_nn.predict(X_test)\n",
    "y_pred = (predict_cnn > 0.5)\n",
    "c_matrix = confusion_matrix(y_test.argmax(axis=1), y_pred.argmax(axis=1))"
   ]
  },
  {
   "cell_type": "code",
   "execution_count": 15,
   "metadata": {},
   "outputs": [
    {
     "data": {
      "text/plain": [
       "array([[883,   0,   9,  28,   5,   1,  72,   0,   2,   0],\n",
       "       [  8, 981,   0,  11,   0,   0,   0,   0,   0,   0],\n",
       "       [ 46,   1, 862,   9,  43,   0,  39,   0,   0,   0],\n",
       "       [ 33,   8,   6, 921,  18,   0,  13,   0,   1,   0],\n",
       "       [ 33,   1,  33,  32, 849,   0,  52,   0,   0,   0],\n",
       "       [  0,   0,   0,   0,   0, 982,   0,  15,   0,   3],\n",
       "       [146,   1,  57,  29,  65,   0, 699,   0,   3,   0],\n",
       "       [  1,   0,   0,   0,   0,   3,   0, 980,   0,  16],\n",
       "       [ 19,   1,   2,   3,   2,   1,   4,   4, 961,   3],\n",
       "       [  3,   0,   0,   0,   0,   7,   0,  39,   0, 951]])"
      ]
     },
     "execution_count": 15,
     "metadata": {},
     "output_type": "execute_result"
    }
   ],
   "source": [
    "c_matrix"
   ]
  },
  {
   "cell_type": "code",
   "execution_count": null,
   "metadata": {},
   "outputs": [],
   "source": []
  }
 ],
 "metadata": {
  "kernelspec": {
   "display_name": "Python 3",
   "language": "python",
   "name": "python3"
  },
  "language_info": {
   "codemirror_mode": {
    "name": "ipython",
    "version": 3
   },
   "file_extension": ".py",
   "mimetype": "text/x-python",
   "name": "python",
   "nbconvert_exporter": "python",
   "pygments_lexer": "ipython3",
   "version": "3.6.5"
  }
 },
 "nbformat": 4,
 "nbformat_minor": 2
}
